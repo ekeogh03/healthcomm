{
 "cells": [
  {
   "cell_type": "markdown",
   "id": "574aea67-9ca4-44b7-90d9-c143e05d9832",
   "metadata": {},
   "source": [
    "### Social Responsibility Frame of Drunk Driving Instagram Post"
   ]
  },
  {
   "cell_type": "markdown",
   "id": "021b19da-cc98-43e4-bfd1-2dafff883f9d",
   "metadata": {},
   "source": [
    "<img src=\"socialinstagram.png\" width=\"50%\" />"
   ]
  },
  {
   "cell_type": "markdown",
   "id": "cde9fdad-8aee-4747-86a2-249230bc0497",
   "metadata": {},
   "source": [
    "### Social Responsibility Frame of Drunk Driving Infographic"
   ]
  },
  {
   "cell_type": "markdown",
   "id": "80553807-9890-462a-9953-0672deeb107f",
   "metadata": {},
   "source": [
    "<img src=\"socialinfographic.png\" width=\"50%\" />"
   ]
  },
  {
   "cell_type": "markdown",
   "id": "b2233194-bb43-4f17-9c6e-a2baf1f6e01b",
   "metadata": {},
   "source": [
    "### Individual Responsibility Frame of Drunk Driving Instagram Post"
   ]
  },
  {
   "cell_type": "markdown",
   "id": "46ce484a-c481-416a-8029-50a86b7f0f1e",
   "metadata": {},
   "source": [
    "<img src=\"individualinstagram.png\" width=\"50%\" />"
   ]
  },
  {
   "cell_type": "markdown",
   "id": "47b70d2f-a9d0-41e8-bee2-51961b5b3567",
   "metadata": {},
   "source": [
    "### Individual Responsibility Frame of Drunk Driving Infographic"
   ]
  },
  {
   "cell_type": "markdown",
   "id": "e62bcdc8-929b-4448-a1e3-96208292bf09",
   "metadata": {},
   "source": [
    "<img src=\"individualinfographic.png\" width=\"50%\" />"
   ]
  }
 ],
 "metadata": {
  "citation-manager": {
   "items": {}
  },
  "kernelspec": {
   "display_name": "Python 3.8",
   "language": "python",
   "name": "python3"
  },
  "language_info": {
   "codemirror_mode": {
    "name": "ipython",
    "version": 3
   },
   "file_extension": ".py",
   "mimetype": "text/x-python",
   "name": "python",
   "nbconvert_exporter": "python",
   "pygments_lexer": "ipython3",
   "version": "3.8.8"
  }
 },
 "nbformat": 4,
 "nbformat_minor": 5
}
